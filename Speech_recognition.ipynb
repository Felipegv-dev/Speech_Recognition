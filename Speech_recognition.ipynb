{
 "cells": [
  {
   "cell_type": "markdown",
   "metadata": {
    "id": "gbeCxm1oiEcj"
   },
   "source": [
    "Autores:\n",
    "* Santiago Castro Benavides \t\t\tA01799544\n",
    "* Rodrigo Lira Del Ángel \t\t\tA01799277\n",
    "* Diego Jesús de Lara de la Cruz\t\tA01748449\n",
    "* Andrés Felipe García Viña                              A01800027"
   ]
  },
  {
   "cell_type": "markdown",
   "metadata": {
    "id": "Gb1u_Zz8iaEA"
   },
   "source": [
    "En el presente notebook se muestra el funcionamiento de un modelo de reconocimiento del habla utilizando la librería `speech_recognition` en Python. El objetivo principal es demostrar cómo se puede transcribir el contenido de archivos de audio a texto de manera automática. Para ello, se utiliza la API de Google Speech Recognition, que procesa los archivos de audio y genera transcripciones precisas, acompañadas de un valor de confianza que indica la fiabilidad del resultado. Además, se explora cómo el modelo responde cuando se introduce ruido en los audios, comparando la transcripción de los audios originales con la de los audios alterados. Esta comparación permite analizar cómo el ruido afecta la calidad de la transcripción y la confianza del reconocimiento, proporcionando una visión práctica de los desafíos que pueden enfrentar los sistemas de reconocimiento de voz en condiciones adversas."
   ]
  },
  {
   "cell_type": "markdown",
   "metadata": {
    "id": "2Hvg6V-QiGgU"
   },
   "source": [
    "# Librerias"
   ]
  },
  {
   "cell_type": "markdown",
   "metadata": {
    "id": "IIA7tcXfjzp_"
   },
   "source": [
    "\n",
    "1. **`os`**:\n",
    "   - **Descripción**: La librería `os` en Python proporciona una forma de interactuar con el sistema operativo. Permite realizar operaciones como acceder al sistema de archivos, manipular rutas de directorios, y gestionar procesos del sistema.\n",
    "   - **Propósito**: En este proyecto, `os` se utiliza para manejar rutas de archivos y directorios, facilitando la carga y almacenamiento de archivos de audio de manera eficiente.\n",
    "\n",
    "2. **`numpy`**:\n",
    "   - **Descripción**: `numpy` es una librería fundamental para la computación científica en Python. Ofrece soporte para arrays multidimensionales (matrices) y funciones matemáticas de alto nivel para operar sobre esos arrays.\n",
    "   - **Propósito**: Se utiliza en este proyecto para manipular los datos de audio como arrays de números. Esto nos permite realizar operaciones matemáticas, como agregar ruido al audio, de una manera eficiente y sencilla.\n",
    "\n",
    "3. **`pydub`**:\n",
    "   - **Descripción**: `pydub` es una librería que facilita la manipulación de archivos de audio en Python. Permite cargar, modificar, y exportar archivos de audio en varios formatos como WAV, MP3, etc.\n",
    "   - **Propósito**: En este proyecto, `pydub` se usa para cargar archivos de audio, agregarles ruido, y luego exportar el resultado. Además, facilita la conversión entre diferentes formatos de audio y la manipulación de las propiedades del audio como el volumen y la tasa de bits.\n",
    "\n",
    "4. **`speech_recognition`**:\n",
    "   - **Descripción**: `speech_recognition` es una librería que permite a Python acceder a diferentes servicios de reconocimiento de voz, como Google Web Speech API, IBM Watson, etc., para convertir audio en texto.\n",
    "   - **Propósito**: En este proyecto, `speech_recognition` se utiliza para transcribir el contenido de los archivos de audio, tanto originales como aquellos con ruido añadido. Esto nos permite analizar cómo el ruido afecta la precisión de la transcripción y la confianza en los resultados generados por el servicio de reconocimiento de voz."
   ]
  },
  {
   "cell_type": "code",
   "execution_count": null,
   "metadata": {
    "colab": {
     "base_uri": "https://localhost:8080/"
    },
    "id": "oZWN1qETWinR",
    "outputId": "92760ea8-22a3-4fc6-ae77-e912b546d1b6"
   },
   "outputs": [
    {
     "name": "stdout",
     "output_type": "stream",
     "text": [
      "Collecting pydub\n",
      "  Downloading pydub-0.25.1-py2.py3-none-any.whl.metadata (1.4 kB)\n",
      "Downloading pydub-0.25.1-py2.py3-none-any.whl (32 kB)\n",
      "Installing collected packages: pydub\n",
      "Successfully installed pydub-0.25.1\n"
     ]
    }
   ],
   "source": [
    "!pip install pydub"
   ]
  },
  {
   "cell_type": "code",
   "execution_count": null,
   "metadata": {
    "id": "zCrK9ev0vANU"
   },
   "outputs": [],
   "source": [
    "import os\n",
    "import numpy as np\n",
    "from pydub import AudioSegment\n",
    "import speech_recognition as sr"
   ]
  },
  {
   "cell_type": "code",
   "execution_count": null,
   "metadata": {
    "colab": {
     "base_uri": "https://localhost:8080/"
    },
    "id": "_rzuQ9XUvQ2i",
    "outputId": "77d3bdae-a787-40bf-d162-bff287694d3b"
   },
   "outputs": [
    {
     "data": {
      "text/plain": [
       "['.config',\n",
       " 'New-Recording-4.wav',\n",
       " 'New-Recording-3.wav',\n",
       " 'New-Recording-6.wav',\n",
       " 'New-Recording-7.wav',\n",
       " 'parrafo.wav',\n",
       " 'New-Recording-5.wav',\n",
       " '.ipynb_checkpoints',\n",
       " 'New-Recording-2.wav',\n",
       " 'New-Recording.wav',\n",
       " 'New-Recording-8.wav',\n",
       " 'sample_data']"
      ]
     },
     "execution_count": 101,
     "metadata": {},
     "output_type": "execute_result"
    }
   ],
   "source": [
    "listaAudios = os.listdir()\n",
    "listaAudios"
   ]
  },
  {
   "cell_type": "markdown",
   "metadata": {
    "id": "iLqfUdbliMxI"
   },
   "source": [
    "# Transcripcion"
   ]
  },
  {
   "cell_type": "markdown",
   "metadata": {
    "id": "TQH9JNa7kpVM"
   },
   "source": [
    "Este bloque de código realiza la transcripción de archivos de audio utilizando el servicio de Google Speech Recognition a través de la librería `speech_recognition`. A continuación, se describe el flujo y propósito de cada parte:"
   ]
  },
  {
   "cell_type": "markdown",
   "metadata": {
    "id": "3J7j9FeVk8qt"
   },
   "source": [
    "Primero se crea una instancia de la clase `Recognizer` de la libreria `speech_recognition`. esta intancia se utiliza para reconocer y transcribir audio a texto"
   ]
  },
  {
   "cell_type": "code",
   "execution_count": null,
   "metadata": {
    "id": "XmxCBoJif1KY"
   },
   "outputs": [],
   "source": [
    "r = sr.Recognizer()"
   ]
  },
  {
   "cell_type": "markdown",
   "metadata": {
    "id": "m1FBgyRqlJF2"
   },
   "source": [
    "se define una funcion llamada `transcribe_audio` que toma como argumento el nombre o la ruta de un archivo de audio. Esta función es la responsable de convertir el audio en texto y devolver tanto la transcripción como la confianza asociada"
   ]
  },
  {
   "cell_type": "code",
   "execution_count": null,
   "metadata": {
    "id": "nV8pCTYCveWT"
   },
   "outputs": [],
   "source": [
    "def transcribe_audio(audio):\n",
    "    with sr.AudioFile(audio) as source:\n",
    "        audio_data = r.record(source)\n",
    "        result = r.recognize_google(audio_data, language='es-MX',show_all=True)\n",
    "        transcripcion = result['alternative'][0]['transcript']\n",
    "        confianza = result['alternative'][0]['confidence']\n",
    "\n",
    "        return transcripcion, confianza"
   ]
  },
  {
   "cell_type": "markdown",
   "metadata": {
    "id": "cJDxKKffldbK"
   },
   "source": [
    "mostramos los resultado de la transcripcion de todos los audios y su respectivo nivel de confianza. para evitar problemas de ejecucion se limita a que solo sean leidos los archivos en formato `.wav` ya que es el requerido por el gestor `r`"
   ]
  },
  {
   "cell_type": "code",
   "execution_count": null,
   "metadata": {
    "colab": {
     "base_uri": "https://localhost:8080/"
    },
    "id": "-0U-PqQTvpQ-",
    "outputId": "5234e945-c2d0-4c64-88fb-c32d959d42a9"
   },
   "outputs": [
    {
     "name": "stdout",
     "output_type": "stream",
     "text": [
      "Archivo: New-Recording-4.wav\n",
      "Transcripción: al estornudar tu corazón se detiene un milisegundo\n",
      "Confianza: 0.94797283\n",
      "\n",
      "Archivo: New-Recording-3.wav\n",
      "Transcripción: los delfines duermen con un ojo abierto\n",
      "Confianza: 0.94797283\n",
      "\n",
      "Archivo: New-Recording-6.wav\n",
      "Transcripción: te sientes muy chiquito hoy te noto muy intimidado\n",
      "Confianza: 0.94797283\n",
      "\n",
      "Archivo: New-Recording-7.wav\n",
      "Transcripción: mamarre mamarre mamarre mamarre como la mueve esa muchachota\n",
      "Confianza: 0.94797283\n",
      "\n",
      "Archivo: parrafo.wav\n",
      "Transcripción: El amor es raro porque es una de las pocas experiencias humanas que desafía la lógica y las expectativas a veces aparecen los momentos más inesperados entre personas que parecen opuestas o en situaciones donde no debería florecer es un sentimiento que puede ser tan irracional como intenso llevando a las personas a actuar de manera que en ellas mismas comprenden este animal del amor que nos hace vulnerables y a la vez poderosos lo convierte en algo único difícil de explicar y Por ende fascinante\n",
      "Confianza: 0.94797283\n",
      "\n",
      "Archivo: New-Recording-5.wav\n",
      "Transcripción: la rinconada es la ciudad más alta del mundo ya que está en los alpes a más de 5100 m de altura\n",
      "Confianza: 0.94797307\n",
      "\n",
      "Archivo: New-Recording-2.wav\n",
      "Transcripción: los gemelos idénticos no tienen las mismas huellas dactilares\n",
      "Confianza: 0.94797283\n",
      "\n",
      "Archivo: New-Recording.wav\n",
      "Transcripción: las jirafas tienen 30 veces más probabilidades de ser alcanzadas por un rayo que las personas\n",
      "Confianza: 0.94797301\n",
      "\n",
      "Archivo: New-Recording-8.wav\n",
      "Transcripción: me tiene bobo menso tonto\n",
      "Confianza: 0.94797289\n",
      "\n"
     ]
    }
   ],
   "source": [
    "for i in range(len(listaAudios)):\n",
    "    if listaAudios[i].endswith('.wav'):\n",
    "        transcripcion, confianza = transcribe_audio(listaAudios[i])\n",
    "        print(f'Archivo: {listaAudios[i]}')\n",
    "        print(f'Transcripción: {transcripcion}')\n",
    "        print(f'Confianza: {confianza}\\n')\n"
   ]
  },
  {
   "cell_type": "markdown",
   "metadata": {
    "id": "pFdAarBziPkQ"
   },
   "source": [
    "# Transcripcion con ruido"
   ]
  },
  {
   "cell_type": "markdown",
   "metadata": {
    "id": "Ichn9PveF563"
   },
   "source": [
    "Esta función, `add_noise`, añade ruido blanco a un segmento de audio. Convierte el audio en un array numérico, genera ruido blanco basado en una distribución normal ajustada por `noise_level`, y lo suma al audio original. Luego, crea un nuevo segmento de audio con el ruido añadido y lo devuelve."
   ]
  },
  {
   "cell_type": "code",
   "execution_count": null,
   "metadata": {
    "id": "M__wqvTIAi0g"
   },
   "outputs": [],
   "source": [
    "def add_noise(audio_segment,noise_level):\n",
    "    audio_data = np.array(audio_segment.get_array_of_samples())\n",
    "    noise = np.random.normal(0, noise_level*np.max(audio_data), audio_data.shape)\n",
    "    audio_noise = audio_data + noise\n",
    "    end_audio = audio_segment._spawn(audio_noise.astype(np.int16).tobytes())\n",
    "    return end_audio"
   ]
  },
  {
   "cell_type": "markdown",
   "metadata": {
    "id": "Kz5SyuRjGRu0"
   },
   "source": [
    "Este bloque de código carga un archivo de audio, le añade ruido y compara las transcripciones del audio original y el ruidoso. Primero, se carga el audio original con `AudioSegment.from_file`, se le añade ruido blanco con `add_noise(audio, valor ruido)`, y se guarda como un nuevo archivo. Luego, ambos audios (original y ruidoso) se cargan y se convierten en un formato que puede ser reconocido por el modelo. Finalmente, se transcriben ambos audios utilizando la API de Google Speech Recognition y se imprimen las transcripciones para comparar los resultados."
   ]
  },
  {
   "cell_type": "code",
   "execution_count": null,
   "metadata": {
    "colab": {
     "base_uri": "https://localhost:8080/"
    },
    "id": "yzR-gyyGgcSi",
    "outputId": "670c9844-69eb-43d8-bdf0-07f50836540f"
   },
   "outputs": [
    {
     "name": "stdout",
     "output_type": "stream",
     "text": [
      "Original audio:\n",
      "los delfines duermen con un ojo abierto\n",
      "Noisy audio:\n",
      "los delfines duermen con una falla\n"
     ]
    }
   ],
   "source": [
    "audio = AudioSegment.from_file('New-Recording-3.wav')\n",
    "audio_noise = add_noise(audio,0.4)\n",
    "audio_noise.export('New-Recording-3-noisy.wav',format='wav')\n",
    "with sr.AudioFile(\"New-Recording-3.wav\") as source:\n",
    "    original_audio = r.record(source)\n",
    "\n",
    "with sr.AudioFile(\"New-Recording-3-noisy.wav\") as source:\n",
    "    noisy_audio = r.record(source)\n",
    "\n",
    "print(\"Original audio:\")\n",
    "print(r.recognize_google(original_audio, language='es-MX'))\n",
    "print(\"Noisy audio:\")\n",
    "print(r.recognize_google(noisy_audio, language='es-MX'))"
   ]
  },
  {
   "cell_type": "code",
   "execution_count": null,
   "metadata": {
    "colab": {
     "base_uri": "https://localhost:8080/"
    },
    "id": "wtrYlTZegeIr",
    "outputId": "8b896143-e8d0-4c44-dc78-c3387157c669"
   },
   "outputs": [
    {
     "name": "stdout",
     "output_type": "stream",
     "text": [
      "Original audio:\n",
      "la rinconada es la ciudad más alta del mundo ya que está en los alpes a más de 5100 m de altura\n",
      "Noisy audio:\n",
      "la rinconada de identidad más alto del mundo ya que están ocultos amungus 5.100 metros de altura\n"
     ]
    }
   ],
   "source": [
    "audio = AudioSegment.from_file('New-Recording-5.wav')\n",
    "audio_noise = add_noise(audio,0.55)\n",
    "audio_noise.export('New-Recording-5-noisy.wav',format='wav')\n",
    "with sr.AudioFile(\"New-Recording-5.wav\") as source:\n",
    "    original_audio = r.record(source)\n",
    "\n",
    "with sr.AudioFile(\"New-Recording-5-noisy.wav\") as source:\n",
    "    noisy_audio = r.record(source)\n",
    "\n",
    "print(\"Original audio:\")\n",
    "print(r.recognize_google(original_audio, language='es-MX'))\n",
    "print(\"Noisy audio:\")\n",
    "print(r.recognize_google(noisy_audio, language='es-MX'))"
   ]
  },
  {
   "cell_type": "code",
   "execution_count": null,
   "metadata": {
    "colab": {
     "base_uri": "https://localhost:8080/"
    },
    "id": "DztW8JldfbeC",
    "outputId": "09e44e1c-d387-4937-a6e4-c7fd7e78062c"
   },
   "outputs": [
    {
     "name": "stdout",
     "output_type": "stream",
     "text": [
      "Original audio:\n",
      "El amor es raro porque es una de las pocas experiencias humanas que desafía la lógica y las expectativas a veces aparecen los momentos más inesperados entre personas que parecen opuestas o en situaciones donde no debería florecer es un sentimiento que puede ser tan irracional como intenso llevando a las personas a actuar de manera que en ellas mismas comprenden este animal del amor que nos hace vulnerables y a la vez poderosos lo convierte en algo único difícil de explicar y Por ende fascinante\n",
      "Noisy audio:\n",
      "El amor es raro porque sino las cosas desagradables perspectivas a veces aparecen los momentos más inesperados y exportaciones que aparecen en tres propósitos son es una neurología y sus elementos que puede ser generaciones llevando a las personas de manera similares en una función determinada del amor cuando se sube el volumen en 45%\n"
     ]
    }
   ],
   "source": [
    "audio = AudioSegment.from_file('parrafo.wav')\n",
    "audio_noise = add_noise(audio,0.6)\n",
    "audio_noise.export('parrafo-noisy.wav',format='wav')\n",
    "with sr.AudioFile(\"parrafo.wav\") as source:\n",
    "    original_audio = r.record(source)\n",
    "\n",
    "with sr.AudioFile(\"parrafo-noisy.wav\") as source:\n",
    "    noisy_audio = r.record(source)\n",
    "\n",
    "print(\"Original audio:\")\n",
    "print(r.recognize_google(original_audio, language='es-MX'))\n",
    "print(\"Noisy audio:\")\n",
    "print(r.recognize_google(noisy_audio, language='es-MX'))"
   ]
  },
  {
   "cell_type": "code",
   "execution_count": null,
   "metadata": {
    "colab": {
     "base_uri": "https://localhost:8080/"
    },
    "id": "yyXK-QDZhHGN",
    "outputId": "cf50552d-77f7-4e34-a79b-d23df00a6690"
   },
   "outputs": [
    {
     "name": "stdout",
     "output_type": "stream",
     "text": [
      "0.94797248\n"
     ]
    }
   ],
   "source": [
    "transcrip, confianza = transcribe_audio('parrafo-noisy.wav')\n",
    "print(confianza)"
   ]
  },
  {
   "cell_type": "markdown",
   "metadata": {
    "id": "ivCSKb3jHpqU"
   },
   "source": [
    "El modelo de reconocimiento de voz logró mantener un nivel de confianza relativamente alto (0.9479) a pesar de la adición de un ruido considerable. Esto destaca la capacidad del sistema de Google para manejar y reducir el impacto del ruido en la transcripción. Aunque el ruido añadido con un nivel de 0.6 hizo que el audio fuera casi imperceptible, el modelo aún pudo generar una transcripción con un alto grado de precisión. Sin embargo, se observó que algunas palabras y frases fueron distorsionadas, lo que subraya la importancia de utilizar audios de alta calidad en aplicaciones donde la precisión es esencial. Esto demuestra la robustez del módulo de reducción de ruido de Google, pero también advierte sobre la necesidad de audios claros para obtener transcripciones más fieles."
   ]
  },
  {
   "cell_type": "markdown",
   "metadata": {
    "id": "jd47taB3iUFM"
   },
   "source": [
    "# Conclusion"
   ]
  },
  {
   "cell_type": "markdown",
   "metadata": {
    "id": "r4VpeBPXhga4"
   },
   "source": [
    "El proyecto demostró cómo funciona el reconocimiento de voz utilizando la API de Google en Python, mostrando su precisión y capacidad para manejar ruido. A pesar de añadir un nivel significativo de ruido, el sistema mantuvo una alta confianza en las transcripciones, evidenciando la eficacia de la reducción de ruido de Google. Sin embargo, se observaron algunas distorsiones, lo que subraya la importancia de trabajar con audios de buena calidad para obtener transcripciones más precisas."
   ]
  }
 ],
 "metadata": {
  "colab": {
   "provenance": []
  },
  "kernelspec": {
   "display_name": "Python 3",
   "name": "python3"
  },
  "language_info": {
   "name": "python"
  }
 },
 "nbformat": 4,
 "nbformat_minor": 0
}
